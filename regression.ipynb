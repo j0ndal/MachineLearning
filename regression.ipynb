{
 "cells": [
  {
   "cell_type": "markdown",
   "metadata": {},
   "source": [
    "# Regression\n"
   ]
  },
  {
   "cell_type": "markdown",
   "metadata": {},
   "source": [
    "In the following notebook I will apply two different regression models in order to model the dataset 'Boston house prices':\n",
    "\n",
    "* Ridge regression\n",
    "* K-nearest-neighbor regression\n",
    "\n",
    "The dataset is available in sklearn.datasets and exists of 13 numeric/categorical feature variables and one numeric target variable. More information you can find below.\n",
    "\n",
    "We will apply cross validation in order to choose the hyperparameters and compare the accuracy of the two models. We set cv=5, as the number of partitions. Additionaly, we call the mean over the 5 mean squared errors on the corresponding test sets, as the cross validation score.\n",
    "\n",
    "We first load the data, sketch some informations about it and apply linear regression in order to get an overview of the regression problem.\n"
   ]
  },
  {
   "cell_type": "code",
   "execution_count": 2,
   "metadata": {},
   "outputs": [],
   "source": [
    "import sklearn\n",
    "import numpy as np\n",
    "import matplotlib.pyplot as plt"
   ]
  },
  {
   "cell_type": "code",
   "execution_count": 3,
   "metadata": {
    "scrolled": true
   },
   "outputs": [
    {
     "name": "stdout",
     "output_type": "stream",
     "text": [
      ".. _boston_dataset:\n",
      "\n",
      "Boston house prices dataset\n",
      "---------------------------\n",
      "\n",
      "**Data Set Characteristics:**  \n",
      "\n",
      "    :Number of Instances: 506 \n",
      "\n",
      "    :Number of Attributes: 13 numeric/categorical predictive. Median Value (attribute 14) is usually the target.\n",
      "\n",
      "    :Attribute Information (in order):\n",
      "        - CRIM     per capita crime rate by town\n",
      "        - ZN       proportion of residential land zoned for lots over 25,000 sq.ft.\n",
      "        - INDUS    proportion of non-retail business acres per town\n",
      "        - CHAS     Charles River dummy variable (= 1 if tract bounds river; 0 otherwise)\n",
      "        - NOX      nitric oxides concentration (parts per 10 million)\n",
      "        - RM       average number of rooms per dwelling\n",
      "        - AGE      proportion of owner-occupied units built prior to 1940\n",
      "        - DIS      weighted distances to five Boston employment centres\n",
      "        - RAD      index of accessibility to radial highways\n",
      "        - TAX      full-value property-tax rate per $10,000\n",
      "        - PTRATIO  pupil-teacher ratio by town\n",
      "        - B        1000(Bk - 0.63)^2 where Bk is the proportion of blacks by town\n",
      "        - LSTAT    % lower status of the population\n",
      "        - MEDV     Median value of owner-occupied homes in $1000's\n",
      "\n",
      "    :Missing Attribute Values: None\n",
      "\n",
      "    :Creator: Harrison, D. and Rubinfeld, D.L.\n",
      "\n",
      "This is a copy of UCI ML housing dataset.\n",
      "https://archive.ics.uci.edu/ml/machine-learning-databases/housing/\n",
      "\n",
      "\n",
      "This dataset was taken from the StatLib library which is maintained at Carnegie Mellon University.\n",
      "\n",
      "The Boston house-price data of Harrison, D. and Rubinfeld, D.L. 'Hedonic\n",
      "prices and the demand for clean air', J. Environ. Economics & Management,\n",
      "vol.5, 81-102, 1978.   Used in Belsley, Kuh & Welsch, 'Regression diagnostics\n",
      "...', Wiley, 1980.   N.B. Various transformations are used in the table on\n",
      "pages 244-261 of the latter.\n",
      "\n",
      "The Boston house-price data has been used in many machine learning papers that address regression\n",
      "problems.   \n",
      "     \n",
      ".. topic:: References\n",
      "\n",
      "   - Belsley, Kuh & Welsch, 'Regression diagnostics: Identifying Influential Data and Sources of Collinearity', Wiley, 1980. 244-261.\n",
      "   - Quinlan,R. (1993). Combining Instance-Based and Model-Based Learning. In Proceedings on the Tenth International Conference of Machine Learning, 236-243, University of Massachusetts, Amherst. Morgan Kaufmann.\n",
      "\n"
     ]
    }
   ],
   "source": [
    "from sklearn.datasets import load_boston\n",
    "boston=load_boston()\n",
    "print(boston.DESCR)"
   ]
  },
  {
   "cell_type": "markdown",
   "metadata": {},
   "source": [
    "Note, that CHAS and RAD are categorical variables. However, CHAS takes the values 0 or 1, and RAD is an index. This means, that both represent ordered sets and we can handle them like numeric data too."
   ]
  },
  {
   "cell_type": "markdown",
   "metadata": {},
   "source": [
    "We use linear regression from statsmodels.api and compute the mean squared error."
   ]
  },
  {
   "cell_type": "code",
   "execution_count": 36,
   "metadata": {},
   "outputs": [
    {
     "name": "stdout",
     "output_type": "stream",
     "text": [
      "The mean squared error is 21.89.\n",
      "                            OLS Regression Results                            \n",
      "==============================================================================\n",
      "Dep. Variable:                      y   R-squared:                       0.741\n",
      "Model:                            OLS   Adj. R-squared:                  0.734\n",
      "Method:                 Least Squares   F-statistic:                     108.1\n",
      "Date:                Wed, 11 Dec 2019   Prob (F-statistic):          6.72e-135\n",
      "Time:                        14:43:17   Log-Likelihood:                -1498.8\n",
      "No. Observations:                 506   AIC:                             3026.\n",
      "Df Residuals:                     492   BIC:                             3085.\n",
      "Df Model:                          13                                         \n",
      "Covariance Type:            nonrobust                                         \n",
      "==============================================================================\n",
      "                 coef    std err          t      P>|t|      [0.025      0.975]\n",
      "------------------------------------------------------------------------------\n",
      "const         36.4595      5.103      7.144      0.000      26.432      46.487\n",
      "x1            -0.1080      0.033     -3.287      0.001      -0.173      -0.043\n",
      "x2             0.0464      0.014      3.382      0.001       0.019       0.073\n",
      "x3             0.0206      0.061      0.334      0.738      -0.100       0.141\n",
      "x4             2.6867      0.862      3.118      0.002       0.994       4.380\n",
      "x5           -17.7666      3.820     -4.651      0.000     -25.272     -10.262\n",
      "x6             3.8099      0.418      9.116      0.000       2.989       4.631\n",
      "x7             0.0007      0.013      0.052      0.958      -0.025       0.027\n",
      "x8            -1.4756      0.199     -7.398      0.000      -1.867      -1.084\n",
      "x9             0.3060      0.066      4.613      0.000       0.176       0.436\n",
      "x10           -0.0123      0.004     -3.280      0.001      -0.020      -0.005\n",
      "x11           -0.9527      0.131     -7.283      0.000      -1.210      -0.696\n",
      "x12            0.0093      0.003      3.467      0.001       0.004       0.015\n",
      "x13           -0.5248      0.051    -10.347      0.000      -0.624      -0.425\n",
      "==============================================================================\n",
      "Omnibus:                      178.041   Durbin-Watson:                   1.078\n",
      "Prob(Omnibus):                  0.000   Jarque-Bera (JB):              783.126\n",
      "Skew:                           1.521   Prob(JB):                    8.84e-171\n",
      "Kurtosis:                       8.281   Cond. No.                     1.51e+04\n",
      "==============================================================================\n",
      "\n",
      "Warnings:\n",
      "[1] Standard Errors assume that the covariance matrix of the errors is correctly specified.\n",
      "[2] The condition number is large, 1.51e+04. This might indicate that there are\n",
      "strong multicollinearity or other numerical problems.\n"
     ]
    }
   ],
   "source": [
    "import statsmodels.api as sm\n",
    "from sklearn.metrics import mean_squared_error\n",
    "\n",
    "linreg=sm.OLS(boston.target,X)\n",
    "beta2=linreg.fit().params\n",
    "mse2=mean_squared_error(np.dot(X,beta2.T),boston.target)\n",
    "\n",
    "print('The mean squared error is %.2f.' %(mse2))\n",
    "print(linreg.fit().summary())\n",
    "\n"
   ]
  },
  {
   "cell_type": "markdown",
   "metadata": {},
   "source": [
    "### Ridge regression (RR)"
   ]
  },
  {
   "cell_type": "markdown",
   "metadata": {},
   "source": [
    "We apply cross validation in order to select the most accurate regularization parameter of ridge regression."
   ]
  },
  {
   "cell_type": "code",
   "execution_count": 37,
   "metadata": {
    "scrolled": false
   },
   "outputs": [
    {
     "name": "stdout",
     "output_type": "stream",
     "text": [
      "The minimal cross validation score is 29.75, where alpha=150.00.\n"
     ]
    },
    {
     "data": {
      "image/png": "[encoded data removed]",
      "text/plain": [
       "<Figure size 432x288 with 1 Axes>"
      ]
     },
     "metadata": {
      "needs_background": "light"
     },
     "output_type": "display_data"
    }
   ],
   "source": [
    "from sklearn.model_selection import cross_val_score\n",
    "from sklearn import linear_model\n",
    "\n",
    "result_acc=np.array([])\n",
    "alpha = np.array([])\n",
    "for i in np.linspace(0,500,11):\n",
    "    ridgereg=linear_model.Ridge(alpha=i)\n",
    "    accuracy=np.mean(cross_val_score(ridgereg, boston.data, boston.target, cv=5, scoring='neg_mean_squared_error')*(-1))\n",
    "    result_acc=np.append(result_acc,accuracy)\n",
    "    alpha=np.append(alpha, i)\n",
    "                          \n",
    "print('The minimal cross validation score is %.2f, where alpha=%.2f.' %(np.min(result_acc),alpha[np.where(result_acc==np.min(result_acc))]))        \n",
    "        \n",
    "plt.plot(alpha,result_acc, 'o')\n",
    "plt.xlabel('Regularization parameter: alpha')\n",
    "plt.ylabel('Cross validation score')\n",
    "plt.title('Cross validation, cv=5')\n",
    "plt.show()"
   ]
  },
  {
   "cell_type": "markdown",
   "metadata": {},
   "source": [
    "We now use ridge regression with regularization parameter alpha=150 and compute the mean squared error."
   ]
  },
  {
   "cell_type": "code",
   "execution_count": 5,
   "metadata": {},
   "outputs": [
    {
     "data": {
      "text/plain": [
       "Ridge(alpha=150, copy_X=True, fit_intercept=True, max_iter=None,\n",
       "      normalize=False, random_state=None, solver='auto', tol=0.001)"
      ]
     },
     "execution_count": 5,
     "metadata": {},
     "output_type": "execute_result"
    }
   ],
   "source": [
    "ridgereg2=linear_model.Ridge(alpha=150)\n",
    "ridgereg2.fit(boston.data,boston.target)"
   ]
  },
  {
   "cell_type": "code",
   "execution_count": 38,
   "metadata": {
    "scrolled": true
   },
   "outputs": [
    {
     "name": "stdout",
     "output_type": "stream",
     "text": [
      "The mean squared error (ridge regression, alpha = 150) is 24.29.\n"
     ]
    }
   ],
   "source": [
    "beta_1=ridgereg2.coef_\n",
    "beta_0=ridgereg2.intercept_\n",
    "beta=np.hstack((beta_0, beta_1))\n",
    "os=np.ones((506,1))\n",
    "X=np.hstack((os,boston.data))\n",
    "mse=np.sum(np.power((np.dot(X,beta.T)-boston.target),2))/506\n",
    "print('The mean squared error (ridge regression, alpha = 150) is %.2f.' %(mse))"
   ]
  },
  {
   "cell_type": "markdown",
   "metadata": {},
   "source": [
    "###  K-nearest neighbor regression (KNN)"
   ]
  },
  {
   "cell_type": "markdown",
   "metadata": {},
   "source": [
    "We first apply K-nearest neighbor regression and use cross validation again to choose K (the number of neighbors). Further on, we display the minimal cross validation score."
   ]
  },
  {
   "cell_type": "code",
   "execution_count": 41,
   "metadata": {},
   "outputs": [
    {
     "name": "stdout",
     "output_type": "stream",
     "text": [
      "If we choose K=60, the cross validation score is minimal, namely 72.46.\n"
     ]
    }
   ],
   "source": [
    "from sklearn.neighbors import KNeighborsRegressor\n",
    "from sklearn.model_selection import cross_val_score\n",
    "from sklearn.metrics import mean_squared_error\n",
    "\n",
    "accknn_old=1000.0\n",
    "k=1\n",
    "\n",
    "for i in np.linspace(1,200,21).astype(int):\n",
    "    knn=KNeighborsRegressor(n_neighbors=i)\n",
    "    accknn=np.mean(cross_val_score(estimator=knn,X=boston.data,y=boston.target,scoring='neg_mean_squared_error',cv=5, error_score='raise')*(-1))\n",
    "    if accknn < accknn_old:\n",
    "        accknn_old = accknn\n",
    "        k=i\n",
    "        \n",
    "print('If we choose K=%s, the cross validation score is minimal, namely %.2f.' %(k,accknn_old))"
   ]
  },
  {
   "cell_type": "markdown",
   "metadata": {},
   "source": [
    "Unfortunatly, the value is quite large. But this fact is not surprising. When choosing the nearest neighbors of an input, the algorithm uses the Minkowski metric. If the data is not scaled, the definition of a neighbor is not really accurate.\n",
    "\n",
    "So we scale the data before."
   ]
  },
  {
   "cell_type": "code",
   "execution_count": 51,
   "metadata": {},
   "outputs": [],
   "source": [
    "from sklearn import preprocessing\n",
    "X_scaled=preprocessing.scale(boston.data)"
   ]
  },
  {
   "cell_type": "markdown",
   "metadata": {},
   "source": [
    "We now apply K-nearest neighbor regression with the transformed data X_scale and use cross validation to choose K (the number of neighbors)."
   ]
  },
  {
   "cell_type": "code",
   "execution_count": 52,
   "metadata": {
    "scrolled": true
   },
   "outputs": [
    {
     "name": "stdout",
     "output_type": "stream",
     "text": [
      "The minimal cross validation score is 28.49, where k=10.00.\n"
     ]
    },
    {
     "data": {
      "image/png": "[encoded data removed]",
      "text/plain": [
       "<Figure size 432x288 with 1 Axes>"
      ]
     },
     "metadata": {
      "needs_background": "light"
     },
     "output_type": "display_data"
    }
   ],
   "source": [
    "result_matrix=np.array([])\n",
    "neighbor_matrix=np.array([])\n",
    "\n",
    "for i in np.linspace(1,50,21).astype(int):\n",
    "    knn_scaled=KNeighborsRegressor(n_neighbors=i)\n",
    "    acc_knn_scaled=np.mean(cross_val_score(estimator=knn_scaled,X=X_scaled,y=boston.target,scoring='neg_mean_squared_error',cv=5)*(-1))\n",
    "    result_matrix=np.append(result_matrix,acc_knn_scaled)\n",
    "    neighbor_matrix=np.append(neighbor_matrix, i)\n",
    "    \n",
    "print('The minimal cross validation score is %.2f, where k=%.2f.' %(np.min(result_matrix),neighbor_matrix[np.where(result_matrix==np.min(result_matrix))]))        \n",
    "            \n",
    "                            \n",
    "plt.plot(neighbor_matrix,result_matrix, 'o')\n",
    "plt.xlabel('Number of neighbors')\n",
    "plt.ylabel('Cross validation score')\n",
    "plt.title('Cross validation, cv=5')\n",
    "plt.show()\n",
    "\n"
   ]
  },
  {
   "cell_type": "markdown",
   "metadata": {},
   "source": [
    "We now use the 10-nearest neighbors regression model on the shifted/scaled data and compute the mean squared error."
   ]
  },
  {
   "cell_type": "code",
   "execution_count": 53,
   "metadata": {
    "scrolled": true
   },
   "outputs": [
    {
     "data": {
      "text/plain": [
       "KNeighborsRegressor(algorithm='auto', leaf_size=30, metric='minkowski',\n",
       "                    metric_params=None, n_jobs=None, n_neighbors=10, p=2,\n",
       "                    weights='uniform')"
      ]
     },
     "execution_count": 53,
     "metadata": {},
     "output_type": "execute_result"
    }
   ],
   "source": [
    "nn_scaled=KNeighborsRegressor(n_neighbors=10)\n",
    "nn_scaled.fit(X_scaled, boston.target)"
   ]
  },
  {
   "cell_type": "code",
   "execution_count": 54,
   "metadata": {},
   "outputs": [
    {
     "name": "stdout",
     "output_type": "stream",
     "text": [
      "The mean square error is 17.53.\n"
     ]
    }
   ],
   "source": [
    "    mse=mean_squared_error(nn_scaled.predict(preprocessing.scale(boston.data)),boston.target)\n",
    "    print('The mean square error is %.2f.' %(mse))"
   ]
  },
  {
   "cell_type": "markdown",
   "metadata": {},
   "source": [
    "### Summary"
   ]
  },
  {
   "cell_type": "markdown",
   "metadata": {},
   "source": [
    "The cross validation score for KNN (28.49) is slightly better than the cross validation score for RR (29.75). On the other hand the RR-model is better to interpret. If we compare the mean squared errors of both models, than KNN is substantially better. This results from a small bias of the KNN, but as we see from cross validation, the KNN's variance is relatively large.\n",
    "\n",
    "In order to to get better results for RR, we could preprocess the data. One option is to carry out  feature selection (the t-values for x3 and x7 are very small), and/or scaling/shifting the data, as in KNN."
   ]
  }
 ],
 "metadata": {
  "kernelspec": {
   "display_name": "Python 3",
   "language": "python",
   "name": "python3"
  },
  "language_info": {
   "codemirror_mode": {
    "name": "ipython",
    "version": 3
   },
   "file_extension": ".py",
   "mimetype": "text/x-python",
   "name": "python",
   "nbconvert_exporter": "python",
   "pygments_lexer": "ipython3",
   "version": "3.7.3"
  }
 },
 "nbformat": 4,
 "nbformat_minor": 2
}
